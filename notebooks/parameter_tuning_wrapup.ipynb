{
 "metadata": {
  "language_info": {
   "codemirror_mode": {
    "name": "ipython",
    "version": 3
   },
   "file_extension": ".py",
   "mimetype": "text/x-python",
   "name": "python",
   "nbconvert_exporter": "python",
   "pygments_lexer": "ipython3",
   "version": ""
  },
  "orig_nbformat": 4,
  "kernelspec": {
   "name": "python3",
   "display_name": "Python 3.9.5 64-bit"
  },
  "interpreter": {
   "hash": "66661eeb161c8849763b862f1186f1148f13dc2198fb84b1ec0196171727556a"
  }
 },
 "nbformat": 4,
 "nbformat_minor": 2,
 "cells": [
  {
   "cell_type": "code",
   "execution_count": 1,
   "metadata": {},
   "outputs": [],
   "source": [
    "import pandas as pd\n",
    "\n",
    "penguins = pd.read_csv(\"../datasets/penguins.csv\")\n",
    "\n",
    "columns = [\"Body Mass (g)\", \"Flipper Length (mm)\", \"Culmen Length (mm)\"]\n",
    "target_name = \"Species\"\n",
    "\n",
    "# Remove lines with missing values for the columns of interestes\n",
    "penguins_non_missing = penguins[columns + [target_name]].dropna()\n",
    "\n",
    "data = penguins_non_missing[columns]\n",
    "target = penguins_non_missing[target_name]"
   ]
  },
  {
   "cell_type": "code",
   "execution_count": 2,
   "metadata": {},
   "outputs": [
    {
     "output_type": "execute_result",
     "data": {
      "text/plain": [
       "   Body Mass (g)  Flipper Length (mm)  Culmen Length (mm)\n",
       "0         3750.0                181.0                39.1\n",
       "1         3800.0                186.0                39.5\n",
       "2         3250.0                195.0                40.3\n",
       "4         3450.0                193.0                36.7\n",
       "5         3650.0                190.0                39.3"
      ],
      "text/html": "<div>\n<style scoped>\n    .dataframe tbody tr th:only-of-type {\n        vertical-align: middle;\n    }\n\n    .dataframe tbody tr th {\n        vertical-align: top;\n    }\n\n    .dataframe thead th {\n        text-align: right;\n    }\n</style>\n<table border=\"1\" class=\"dataframe\">\n  <thead>\n    <tr style=\"text-align: right;\">\n      <th></th>\n      <th>Body Mass (g)</th>\n      <th>Flipper Length (mm)</th>\n      <th>Culmen Length (mm)</th>\n    </tr>\n  </thead>\n  <tbody>\n    <tr>\n      <th>0</th>\n      <td>3750.0</td>\n      <td>181.0</td>\n      <td>39.1</td>\n    </tr>\n    <tr>\n      <th>1</th>\n      <td>3800.0</td>\n      <td>186.0</td>\n      <td>39.5</td>\n    </tr>\n    <tr>\n      <th>2</th>\n      <td>3250.0</td>\n      <td>195.0</td>\n      <td>40.3</td>\n    </tr>\n    <tr>\n      <th>4</th>\n      <td>3450.0</td>\n      <td>193.0</td>\n      <td>36.7</td>\n    </tr>\n    <tr>\n      <th>5</th>\n      <td>3650.0</td>\n      <td>190.0</td>\n      <td>39.3</td>\n    </tr>\n  </tbody>\n</table>\n</div>"
     },
     "metadata": {},
     "execution_count": 2
    }
   ],
   "source": [
    "data.head()"
   ]
  },
  {
   "cell_type": "code",
   "execution_count": 5,
   "metadata": {},
   "outputs": [
    {
     "output_type": "execute_result",
     "data": {
      "text/plain": [
       "Adelie Penguin (Pygoscelis adeliae)          0.441520\n",
       "Gentoo penguin (Pygoscelis papua)            0.359649\n",
       "Chinstrap penguin (Pygoscelis antarctica)    0.198830\n",
       "Name: Species, dtype: float64"
      ]
     },
     "metadata": {},
     "execution_count": 5
    }
   ],
   "source": [
    "target.value_counts(normalize=True)"
   ]
  },
  {
   "cell_type": "code",
   "execution_count": 6,
   "metadata": {},
   "outputs": [
    {
     "output_type": "execute_result",
     "data": {
      "text/plain": [
       "       Body Mass (g)  Flipper Length (mm)  Culmen Length (mm)\n",
       "count     342.000000           342.000000          342.000000\n",
       "mean     4201.754386           200.915205           43.921930\n",
       "std       801.954536            14.061714            5.459584\n",
       "min      2700.000000           172.000000           32.100000\n",
       "25%      3550.000000           190.000000           39.225000\n",
       "50%      4050.000000           197.000000           44.450000\n",
       "75%      4750.000000           213.000000           48.500000\n",
       "max      6300.000000           231.000000           59.600000"
      ],
      "text/html": "<div>\n<style scoped>\n    .dataframe tbody tr th:only-of-type {\n        vertical-align: middle;\n    }\n\n    .dataframe tbody tr th {\n        vertical-align: top;\n    }\n\n    .dataframe thead th {\n        text-align: right;\n    }\n</style>\n<table border=\"1\" class=\"dataframe\">\n  <thead>\n    <tr style=\"text-align: right;\">\n      <th></th>\n      <th>Body Mass (g)</th>\n      <th>Flipper Length (mm)</th>\n      <th>Culmen Length (mm)</th>\n    </tr>\n  </thead>\n  <tbody>\n    <tr>\n      <th>count</th>\n      <td>342.000000</td>\n      <td>342.000000</td>\n      <td>342.000000</td>\n    </tr>\n    <tr>\n      <th>mean</th>\n      <td>4201.754386</td>\n      <td>200.915205</td>\n      <td>43.921930</td>\n    </tr>\n    <tr>\n      <th>std</th>\n      <td>801.954536</td>\n      <td>14.061714</td>\n      <td>5.459584</td>\n    </tr>\n    <tr>\n      <th>min</th>\n      <td>2700.000000</td>\n      <td>172.000000</td>\n      <td>32.100000</td>\n    </tr>\n    <tr>\n      <th>25%</th>\n      <td>3550.000000</td>\n      <td>190.000000</td>\n      <td>39.225000</td>\n    </tr>\n    <tr>\n      <th>50%</th>\n      <td>4050.000000</td>\n      <td>197.000000</td>\n      <td>44.450000</td>\n    </tr>\n    <tr>\n      <th>75%</th>\n      <td>4750.000000</td>\n      <td>213.000000</td>\n      <td>48.500000</td>\n    </tr>\n    <tr>\n      <th>max</th>\n      <td>6300.000000</td>\n      <td>231.000000</td>\n      <td>59.600000</td>\n    </tr>\n  </tbody>\n</table>\n</div>"
     },
     "metadata": {},
     "execution_count": 6
    }
   ],
   "source": [
    "data.describe()"
   ]
  },
  {
   "cell_type": "code",
   "execution_count": 7,
   "metadata": {},
   "outputs": [],
   "source": [
    "from sklearn.neighbors import KNeighborsClassifier\n",
    "from sklearn.preprocessing import StandardScaler\n",
    "from sklearn.pipeline import Pipeline\n",
    "model = Pipeline(steps=[\n",
    "    (\"preprocessor\", StandardScaler()),\n",
    "    (\"classifier\", KNeighborsClassifier(n_neighbors=5)),\n",
    "])"
   ]
  },
  {
   "cell_type": "code",
   "execution_count": 10,
   "metadata": {},
   "outputs": [],
   "source": [
    "from sklearn.model_selection import cross_validate\n",
    "\n",
    "result_classifier = cross_validate(\n",
    "    model,\n",
    "    data,\n",
    "    target,\n",
    "    cv=10,\n",
    "    scoring='balanced_accuracy',\n",
    ")"
   ]
  },
  {
   "cell_type": "code",
   "execution_count": 11,
   "metadata": {},
   "outputs": [
    {
     "output_type": "execute_result",
     "data": {
      "text/plain": [
       "{'memory': None,\n",
       " 'steps': [('preprocessor', StandardScaler()),\n",
       "  ('classifier', KNeighborsClassifier())],\n",
       " 'verbose': False,\n",
       " 'preprocessor': StandardScaler(),\n",
       " 'classifier': KNeighborsClassifier(),\n",
       " 'preprocessor__copy': True,\n",
       " 'preprocessor__with_mean': True,\n",
       " 'preprocessor__with_std': True,\n",
       " 'classifier__algorithm': 'auto',\n",
       " 'classifier__leaf_size': 30,\n",
       " 'classifier__metric': 'minkowski',\n",
       " 'classifier__metric_params': None,\n",
       " 'classifier__n_jobs': None,\n",
       " 'classifier__n_neighbors': 5,\n",
       " 'classifier__p': 2,\n",
       " 'classifier__weights': 'uniform'}"
      ]
     },
     "metadata": {},
     "execution_count": 11
    }
   ],
   "source": [
    "model.get_params()"
   ]
  },
  {
   "cell_type": "code",
   "execution_count": 18,
   "metadata": {},
   "outputs": [
    {
     "output_type": "execute_result",
     "data": {
      "text/plain": [
       "0.9521978021978021"
      ]
     },
     "metadata": {},
     "execution_count": 18
    }
   ],
   "source": [
    "import numpy as np\n",
    "np.mean(result_classifier['test_score'])"
   ]
  },
  {
   "cell_type": "code",
   "execution_count": 21,
   "metadata": {},
   "outputs": [
    {
     "output_type": "execute_result",
     "data": {
      "text/plain": [
       "0.9418803418803419"
      ]
     },
     "metadata": {},
     "execution_count": 21
    }
   ],
   "source": [
    "result_classifier2 = cross_validate(\n",
    "    model.set_params(classifier__n_neighbors=51),\n",
    "    data,\n",
    "    target,\n",
    "    cv=10,\n",
    "    scoring='balanced_accuracy',\n",
    ")\n",
    "\n",
    "np.mean(result_classifier2['test_score'])"
   ]
  },
  {
   "cell_type": "code",
   "execution_count": 23,
   "metadata": {},
   "outputs": [
    {
     "output_type": "execute_result",
     "data": {
      "text/plain": [
       "0.7398382173382173"
      ]
     },
     "metadata": {},
     "execution_count": 23
    }
   ],
   "source": [
    "result_classifier3 = cross_validate(\n",
    "    model.set_params(classifier__n_neighbors=5, preprocessor=None),\n",
    "    data,\n",
    "    target,\n",
    "    cv=10,\n",
    "    scoring='balanced_accuracy',\n",
    ")\n",
    "\n",
    "np.mean(result_classifier3['test_score'])"
   ]
  },
  {
   "cell_type": "code",
   "execution_count": 24,
   "metadata": {},
   "outputs": [
    {
     "output_type": "execute_result",
     "data": {
      "text/plain": [
       "{'memory': None,\n",
       " 'steps': [('preprocessor', None), ('classifier', KNeighborsClassifier())],\n",
       " 'verbose': False,\n",
       " 'preprocessor': None,\n",
       " 'classifier': KNeighborsClassifier(),\n",
       " 'classifier__algorithm': 'auto',\n",
       " 'classifier__leaf_size': 30,\n",
       " 'classifier__metric': 'minkowski',\n",
       " 'classifier__metric_params': None,\n",
       " 'classifier__n_jobs': None,\n",
       " 'classifier__n_neighbors': 5,\n",
       " 'classifier__p': 2,\n",
       " 'classifier__weights': 'uniform'}"
      ]
     },
     "metadata": {},
     "execution_count": 24
    }
   ],
   "source": [
    "model.get_params()"
   ]
  },
  {
   "cell_type": "code",
   "execution_count": 25,
   "metadata": {},
   "outputs": [],
   "source": [
    "from sklearn.preprocessing import MinMaxScaler\n",
    "from sklearn.preprocessing import QuantileTransformer\n",
    "from sklearn.preprocessing import PowerTransformer\n",
    "\n",
    "all_preprocessors = [\n",
    "    None,\n",
    "    StandardScaler(),\n",
    "    MinMaxScaler(),\n",
    "    QuantileTransformer(n_quantiles=100),\n",
    "    PowerTransformer(method=\"box-cox\"),\n",
    "]"
   ]
  },
  {
   "cell_type": "code",
   "execution_count": 33,
   "metadata": {},
   "outputs": [],
   "source": [
    "from sklearn.model_selection import GridSearchCV\n",
    "\n",
    "param_grid = {\n",
    "    'classifier__n_neighbors': [5, 51, 101],\n",
    "    'preprocessor': all_preprocessors,\n",
    "}\n",
    "\n",
    "model_grid_search = GridSearchCV(\n",
    "    model,\n",
    "    param_grid=param_grid,\n",
    ")\n",
    "\n",
    "cv_results = cross_validate(\n",
    "    model_grid_search,\n",
    "    data,\n",
    "    target,\n",
    "    scoring='balanced_accuracy',\n",
    "    cv=10,\n",
    ")\n"
   ]
  },
  {
   "cell_type": "code",
   "execution_count": 37,
   "metadata": {},
   "outputs": [
    {
     "output_type": "stream",
     "name": "stdout",
     "text": [
      "Accuracy score by cross-validation combined with hyperparameters search:\n0.947 +/- 0.036\n"
     ]
    }
   ],
   "source": [
    "scores = cv_results[\"test_score\"]\n",
    "print(f\"Accuracy score by cross-validation combined with hyperparameters \"\n",
    "      f\"search:\\n{scores.mean():.3f} +/- {scores.std():.3f}\")"
   ]
  },
  {
   "cell_type": "code",
   "execution_count": 36,
   "metadata": {},
   "outputs": [
    {
     "output_type": "execute_result",
     "data": {
      "text/plain": [
       "{'fit_time': array([1.21601486, 1.15194297, 1.04002666, 1.11203361, 1.03999496,\n",
       "        1.04800534, 1.06396699, 1.20799613, 1.23999524, 1.20799351]),\n",
       " 'score_time': array([0.00803185, 0.00800061, 0.00797033, 0.00799584, 0.        ,\n",
       "        0.00798845, 0.0080328 , 0.        , 0.00800323, 0.00800872]),\n",
       " 'test_score': array([0.95238095, 0.92673993, 1.        , 0.94444444, 0.88253968,\n",
       "        1.        , 0.97777778, 0.93015873, 0.90793651, 0.95238095])}"
      ]
     },
     "metadata": {},
     "execution_count": 36
    }
   ],
   "source": [
    "cv_results"
   ]
  },
  {
   "cell_type": "code",
   "execution_count": null,
   "metadata": {},
   "outputs": [],
   "source": []
  }
 ]
}