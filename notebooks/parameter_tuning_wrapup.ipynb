{
 "metadata": {
  "language_info": {
   "codemirror_mode": {
    "name": "ipython",
    "version": 3
   },
   "file_extension": ".py",
   "mimetype": "text/x-python",
   "name": "python",
   "nbconvert_exporter": "python",
   "pygments_lexer": "ipython3",
   "version": "3.9.5"
  },
  "orig_nbformat": 4,
  "kernelspec": {
   "name": "python3",
   "display_name": "Python 3.9.5 64-bit"
  },
  "interpreter": {
   "hash": "b51595f36012c8da2bf2284ebbd8d377d5c2d31fa7484164f2d2bcda7a09b462"
  }
 },
 "nbformat": 4,
 "nbformat_minor": 2,
 "cells": [
  {
   "cell_type": "code",
   "execution_count": 1,
   "metadata": {},
   "outputs": [],
   "source": [
    "import pandas as pd\n",
    "\n",
    "penguins = pd.read_csv(\"../datasets/penguins.csv\")\n",
    "\n",
    "columns = [\"Body Mass (g)\", \"Flipper Length (mm)\", \"Culmen Length (mm)\"]\n",
    "target_name = \"Species\"\n",
    "\n",
    "# Remove lines with missing values for the columns of interestes\n",
    "penguins_non_missing = penguins[columns + [target_name]].dropna()\n",
    "\n",
    "data = penguins_non_missing[columns]\n",
    "target = penguins_non_missing[target_name]"
   ]
  },
  {
   "cell_type": "code",
   "execution_count": 2,
   "metadata": {},
   "outputs": [
    {
     "output_type": "execute_result",
     "data": {
      "text/plain": [
       "   Body Mass (g)  Flipper Length (mm)  Culmen Length (mm)\n",
       "0         3750.0                181.0                39.1\n",
       "1         3800.0                186.0                39.5\n",
       "2         3250.0                195.0                40.3\n",
       "4         3450.0                193.0                36.7\n",
       "5         3650.0                190.0                39.3"
      ],
      "text/html": "<div>\n<style scoped>\n    .dataframe tbody tr th:only-of-type {\n        vertical-align: middle;\n    }\n\n    .dataframe tbody tr th {\n        vertical-align: top;\n    }\n\n    .dataframe thead th {\n        text-align: right;\n    }\n</style>\n<table border=\"1\" class=\"dataframe\">\n  <thead>\n    <tr style=\"text-align: right;\">\n      <th></th>\n      <th>Body Mass (g)</th>\n      <th>Flipper Length (mm)</th>\n      <th>Culmen Length (mm)</th>\n    </tr>\n  </thead>\n  <tbody>\n    <tr>\n      <th>0</th>\n      <td>3750.0</td>\n      <td>181.0</td>\n      <td>39.1</td>\n    </tr>\n    <tr>\n      <th>1</th>\n      <td>3800.0</td>\n      <td>186.0</td>\n      <td>39.5</td>\n    </tr>\n    <tr>\n      <th>2</th>\n      <td>3250.0</td>\n      <td>195.0</td>\n      <td>40.3</td>\n    </tr>\n    <tr>\n      <th>4</th>\n      <td>3450.0</td>\n      <td>193.0</td>\n      <td>36.7</td>\n    </tr>\n    <tr>\n      <th>5</th>\n      <td>3650.0</td>\n      <td>190.0</td>\n      <td>39.3</td>\n    </tr>\n  </tbody>\n</table>\n</div>"
     },
     "metadata": {},
     "execution_count": 2
    }
   ],
   "source": [
    "data.head()"
   ]
  },
  {
   "cell_type": "code",
   "execution_count": 3,
   "metadata": {},
   "outputs": [
    {
     "output_type": "execute_result",
     "data": {
      "text/plain": [
       "Adelie Penguin (Pygoscelis adeliae)          0.441520\n",
       "Gentoo penguin (Pygoscelis papua)            0.359649\n",
       "Chinstrap penguin (Pygoscelis antarctica)    0.198830\n",
       "Name: Species, dtype: float64"
      ]
     },
     "metadata": {},
     "execution_count": 3
    }
   ],
   "source": [
    "target.value_counts(normalize=True)"
   ]
  },
  {
   "cell_type": "code",
   "execution_count": 4,
   "metadata": {},
   "outputs": [
    {
     "output_type": "execute_result",
     "data": {
      "text/plain": [
       "       Body Mass (g)  Flipper Length (mm)  Culmen Length (mm)\n",
       "count     342.000000           342.000000          342.000000\n",
       "mean     4201.754386           200.915205           43.921930\n",
       "std       801.954536            14.061714            5.459584\n",
       "min      2700.000000           172.000000           32.100000\n",
       "25%      3550.000000           190.000000           39.225000\n",
       "50%      4050.000000           197.000000           44.450000\n",
       "75%      4750.000000           213.000000           48.500000\n",
       "max      6300.000000           231.000000           59.600000"
      ],
      "text/html": "<div>\n<style scoped>\n    .dataframe tbody tr th:only-of-type {\n        vertical-align: middle;\n    }\n\n    .dataframe tbody tr th {\n        vertical-align: top;\n    }\n\n    .dataframe thead th {\n        text-align: right;\n    }\n</style>\n<table border=\"1\" class=\"dataframe\">\n  <thead>\n    <tr style=\"text-align: right;\">\n      <th></th>\n      <th>Body Mass (g)</th>\n      <th>Flipper Length (mm)</th>\n      <th>Culmen Length (mm)</th>\n    </tr>\n  </thead>\n  <tbody>\n    <tr>\n      <th>count</th>\n      <td>342.000000</td>\n      <td>342.000000</td>\n      <td>342.000000</td>\n    </tr>\n    <tr>\n      <th>mean</th>\n      <td>4201.754386</td>\n      <td>200.915205</td>\n      <td>43.921930</td>\n    </tr>\n    <tr>\n      <th>std</th>\n      <td>801.954536</td>\n      <td>14.061714</td>\n      <td>5.459584</td>\n    </tr>\n    <tr>\n      <th>min</th>\n      <td>2700.000000</td>\n      <td>172.000000</td>\n      <td>32.100000</td>\n    </tr>\n    <tr>\n      <th>25%</th>\n      <td>3550.000000</td>\n      <td>190.000000</td>\n      <td>39.225000</td>\n    </tr>\n    <tr>\n      <th>50%</th>\n      <td>4050.000000</td>\n      <td>197.000000</td>\n      <td>44.450000</td>\n    </tr>\n    <tr>\n      <th>75%</th>\n      <td>4750.000000</td>\n      <td>213.000000</td>\n      <td>48.500000</td>\n    </tr>\n    <tr>\n      <th>max</th>\n      <td>6300.000000</td>\n      <td>231.000000</td>\n      <td>59.600000</td>\n    </tr>\n  </tbody>\n</table>\n</div>"
     },
     "metadata": {},
     "execution_count": 4
    }
   ],
   "source": [
    "data.describe()"
   ]
  },
  {
   "cell_type": "code",
   "execution_count": 5,
   "metadata": {},
   "outputs": [],
   "source": [
    "from sklearn.neighbors import KNeighborsClassifier\n",
    "from sklearn.preprocessing import StandardScaler\n",
    "from sklearn.pipeline import Pipeline\n",
    "model = Pipeline(steps=[\n",
    "    (\"preprocessor\", StandardScaler()),\n",
    "    (\"classifier\", KNeighborsClassifier(n_neighbors=5)),\n",
    "])"
   ]
  },
  {
   "cell_type": "code",
   "execution_count": 8,
   "metadata": {},
   "outputs": [],
   "source": [
    "from sklearn.model_selection import cross_validate\n",
    "\n",
    "result_classifier = cross_validate(\n",
    "    model,\n",
    "    data,\n",
    "    target,\n",
    "    cv=10,\n",
    "    scoring='balanced_accuracy',\n",
    ")"
   ]
  },
  {
   "cell_type": "code",
   "execution_count": 6,
   "metadata": {},
   "outputs": [
    {
     "output_type": "execute_result",
     "data": {
      "text/plain": [
       "{'memory': None,\n",
       " 'steps': [('preprocessor', StandardScaler()),\n",
       "  ('classifier', KNeighborsClassifier())],\n",
       " 'verbose': False,\n",
       " 'preprocessor': StandardScaler(),\n",
       " 'classifier': KNeighborsClassifier(),\n",
       " 'preprocessor__copy': True,\n",
       " 'preprocessor__with_mean': True,\n",
       " 'preprocessor__with_std': True,\n",
       " 'classifier__algorithm': 'auto',\n",
       " 'classifier__leaf_size': 30,\n",
       " 'classifier__metric': 'minkowski',\n",
       " 'classifier__metric_params': None,\n",
       " 'classifier__n_jobs': None,\n",
       " 'classifier__n_neighbors': 5,\n",
       " 'classifier__p': 2,\n",
       " 'classifier__weights': 'uniform'}"
      ]
     },
     "metadata": {},
     "execution_count": 6
    }
   ],
   "source": [
    "model.get_params()"
   ]
  },
  {
   "cell_type": "code",
   "execution_count": 9,
   "metadata": {},
   "outputs": [
    {
     "output_type": "execute_result",
     "data": {
      "text/plain": [
       "0.9521978021978021"
      ]
     },
     "metadata": {},
     "execution_count": 9
    }
   ],
   "source": [
    "result_classifier['test_score'].mean()"
   ]
  },
  {
   "cell_type": "code",
   "execution_count": 11,
   "metadata": {},
   "outputs": [
    {
     "output_type": "execute_result",
     "data": {
      "text/plain": [
       "0.9418803418803419"
      ]
     },
     "metadata": {},
     "execution_count": 11
    }
   ],
   "source": [
    "result_classifier2 = cross_validate(\n",
    "    model.set_params(classifier__n_neighbors=51),\n",
    "    data,\n",
    "    target,\n",
    "    cv=10,\n",
    "    scoring='balanced_accuracy',\n",
    ")\n",
    "\n",
    "result_classifier2['test_score'].mean()"
   ]
  },
  {
   "cell_type": "code",
   "execution_count": 12,
   "metadata": {},
   "outputs": [
    {
     "output_type": "execute_result",
     "data": {
      "text/plain": [
       "0.7398382173382173"
      ]
     },
     "metadata": {},
     "execution_count": 12
    }
   ],
   "source": [
    "result_classifier3 = cross_validate(\n",
    "    model.set_params(classifier__n_neighbors=5, preprocessor=None),\n",
    "    data,\n",
    "    target,\n",
    "    cv=10,\n",
    "    scoring='balanced_accuracy',\n",
    ")\n",
    "\n",
    "result_classifier3['test_score'].mean()"
   ]
  },
  {
   "cell_type": "code",
   "execution_count": 24,
   "metadata": {},
   "outputs": [
    {
     "output_type": "execute_result",
     "data": {
      "text/plain": [
       "{'memory': None,\n",
       " 'steps': [('preprocessor', None), ('classifier', KNeighborsClassifier())],\n",
       " 'verbose': False,\n",
       " 'preprocessor': None,\n",
       " 'classifier': KNeighborsClassifier(),\n",
       " 'classifier__algorithm': 'auto',\n",
       " 'classifier__leaf_size': 30,\n",
       " 'classifier__metric': 'minkowski',\n",
       " 'classifier__metric_params': None,\n",
       " 'classifier__n_jobs': None,\n",
       " 'classifier__n_neighbors': 5,\n",
       " 'classifier__p': 2,\n",
       " 'classifier__weights': 'uniform'}"
      ]
     },
     "metadata": {},
     "execution_count": 24
    }
   ],
   "source": [
    "model.get_params()"
   ]
  },
  {
   "cell_type": "code",
   "execution_count": 13,
   "metadata": {},
   "outputs": [],
   "source": [
    "from sklearn.preprocessing import MinMaxScaler\n",
    "from sklearn.preprocessing import QuantileTransformer\n",
    "from sklearn.preprocessing import PowerTransformer\n",
    "\n",
    "model = Pipeline(\n",
    "    steps=[\n",
    "        (\"preprocessor\", StandardScaler()),\n",
    "        (\"classifier\", KNeighborsClassifier(n_neighbors=5)),\n",
    "    ]\n",
    ")\n",
    "\n",
    "all_preprocessors = [\n",
    "    None,\n",
    "    StandardScaler(),\n",
    "    MinMaxScaler(),\n",
    "    QuantileTransformer(n_quantiles=100),\n",
    "    PowerTransformer(method=\"box-cox\"),\n",
    "]"
   ]
  },
  {
   "cell_type": "code",
   "execution_count": 16,
   "metadata": {
    "tags": []
   },
   "outputs": [
    {
     "output_type": "execute_result",
     "data": {
      "text/plain": [
       "GridSearchCV(estimator=Pipeline(steps=[('preprocessor', StandardScaler()),\n",
       "                                       ('classifier', KNeighborsClassifier())]),\n",
       "             param_grid={'classifier__n_neighbors': [5, 51, 101],\n",
       "                         'preprocessor': [None, StandardScaler(),\n",
       "                                          MinMaxScaler(),\n",
       "                                          QuantileTransformer(n_quantiles=100),\n",
       "                                          PowerTransformer(method='box-cox')]})"
      ]
     },
     "metadata": {},
     "execution_count": 16
    }
   ],
   "source": [
    "from sklearn.model_selection import GridSearchCV\n",
    "\n",
    "param_grid = {\n",
    "    'classifier__n_neighbors': [5, 51, 101],\n",
    "    'preprocessor': all_preprocessors,\n",
    "}\n",
    "\n",
    "model_grid_search = GridSearchCV(\n",
    "    model,\n",
    "    param_grid=param_grid,\n",
    ")\n",
    "\n",
    "model_grid_search.fit(data, target)"
   ]
  },
  {
   "cell_type": "code",
   "execution_count": 17,
   "metadata": {},
   "outputs": [
    {
     "output_type": "execute_result",
     "data": {
      "text/plain": [
       "{'classifier__n_neighbors': 5, 'preprocessor': MinMaxScaler()}"
      ]
     },
     "metadata": {},
     "execution_count": 17
    }
   ],
   "source": [
    "model_grid_search.best_params_"
   ]
  },
  {
   "cell_type": "code",
   "execution_count": 22,
   "metadata": {},
   "outputs": [
    {
     "output_type": "execute_result",
     "data": {
      "text/plain": [
       "{'mean_fit_time': array([0.00766058, 0.00804648, 0.00320749, 0.00728879, 0.00690727,\n",
       "        0.00161228, 0.        , 0.0032074 , 0.00640011, 0.00639319,\n",
       "        0.0080162 , 0.00489054, 0.0032001 , 0.00480132, 0.00638595]),\n",
       " 'std_fit_time': array([2.51852670e-03, 1.35087942e-04, 3.92845944e-03, 1.41285412e-03,\n",
       "        2.43948173e-03, 3.22456360e-03, 0.00000000e+00, 3.92856450e-03,\n",
       "        3.20121336e-03, 3.19692229e-03, 3.05286030e-05, 3.99675019e-03,\n",
       "        3.91991807e-03, 3.92054779e-03, 3.19337982e-03]),\n",
       " 'mean_score_time': array([0.00568871, 0.00505395, 0.00478001, 0.00088391, 0.00365086,\n",
       "        0.00650148, 0.00875392, 0.00479932, 0.00321527, 0.00320868,\n",
       "        0.        , 0.00319963, 0.0047843 , 0.00478325, 0.00481796]),\n",
       " 'std_score_time': array([0.00317767, 0.00368885, 0.00390297, 0.00176783, 0.00365535,\n",
       "        0.00326   , 0.00101437, 0.00391895, 0.00393798, 0.00393005,\n",
       "        0.        , 0.00391903, 0.0039065 , 0.0039056 , 0.00393392]),\n",
       " 'param_classifier__n_neighbors': masked_array(data=[5, 5, 5, 5, 5, 51, 51, 51, 51, 51, 101, 101, 101, 101,\n",
       "                    101],\n",
       "              mask=[False, False, False, False, False, False, False, False,\n",
       "                    False, False, False, False, False, False, False],\n",
       "        fill_value='?',\n",
       "             dtype=object),\n",
       " 'param_preprocessor': masked_array(data=[None, StandardScaler(), MinMaxScaler(),\n",
       "                    QuantileTransformer(n_quantiles=100),\n",
       "                    PowerTransformer(method='box-cox'), None,\n",
       "                    StandardScaler(), MinMaxScaler(),\n",
       "                    QuantileTransformer(n_quantiles=100),\n",
       "                    PowerTransformer(method='box-cox'), None,\n",
       "                    StandardScaler(), MinMaxScaler(),\n",
       "                    QuantileTransformer(n_quantiles=100),\n",
       "                    PowerTransformer(method='box-cox')],\n",
       "              mask=[False, False, False, False, False, False, False, False,\n",
       "                    False, False, False, False, False, False, False],\n",
       "        fill_value='?',\n",
       "             dtype=object),\n",
       " 'params': [{'classifier__n_neighbors': 5, 'preprocessor': None},\n",
       "  {'classifier__n_neighbors': 5, 'preprocessor': StandardScaler()},\n",
       "  {'classifier__n_neighbors': 5, 'preprocessor': MinMaxScaler()},\n",
       "  {'classifier__n_neighbors': 5,\n",
       "   'preprocessor': QuantileTransformer(n_quantiles=100)},\n",
       "  {'classifier__n_neighbors': 5,\n",
       "   'preprocessor': PowerTransformer(method='box-cox')},\n",
       "  {'classifier__n_neighbors': 51, 'preprocessor': None},\n",
       "  {'classifier__n_neighbors': 51, 'preprocessor': StandardScaler()},\n",
       "  {'classifier__n_neighbors': 51, 'preprocessor': MinMaxScaler()},\n",
       "  {'classifier__n_neighbors': 51,\n",
       "   'preprocessor': QuantileTransformer(n_quantiles=100)},\n",
       "  {'classifier__n_neighbors': 51,\n",
       "   'preprocessor': PowerTransformer(method='box-cox')},\n",
       "  {'classifier__n_neighbors': 101, 'preprocessor': None},\n",
       "  {'classifier__n_neighbors': 101, 'preprocessor': StandardScaler()},\n",
       "  {'classifier__n_neighbors': 101, 'preprocessor': MinMaxScaler()},\n",
       "  {'classifier__n_neighbors': 101,\n",
       "   'preprocessor': QuantileTransformer(n_quantiles=100)},\n",
       "  {'classifier__n_neighbors': 101,\n",
       "   'preprocessor': PowerTransformer(method='box-cox')}],\n",
       " 'split0_test_score': array([0.72463768, 0.95652174, 0.97101449, 0.94202899, 0.92753623,\n",
       "        0.71014493, 0.97101449, 0.94202899, 0.94202899, 0.95652174,\n",
       "        0.71014493, 0.89855072, 0.89855072, 0.89855072, 0.89855072]),\n",
       " 'split1_test_score': array([0.72463768, 0.97101449, 0.97101449, 0.97101449, 0.95652174,\n",
       "        0.69565217, 0.95652174, 0.95652174, 0.95652174, 0.97101449,\n",
       "        0.69565217, 0.91304348, 0.91304348, 0.88405797, 0.89855072]),\n",
       " 'split2_test_score': array([0.72058824, 0.94117647, 0.95588235, 0.95588235, 0.95588235,\n",
       "        0.75      , 0.94117647, 0.89705882, 0.91176471, 0.89705882,\n",
       "        0.75      , 0.88235294, 0.86764706, 0.79411765, 0.83823529]),\n",
       " 'split3_test_score': array([0.85294118, 0.95588235, 0.95588235, 0.97058824, 0.94117647,\n",
       "        0.75      , 0.95588235, 0.95588235, 0.94117647, 0.95588235,\n",
       "        0.75      , 0.89705882, 0.89705882, 0.85294118, 0.86764706]),\n",
       " 'split4_test_score': array([0.89705882, 0.97058824, 0.97058824, 0.97058824, 0.97058824,\n",
       "        0.77941176, 0.95588235, 0.94117647, 0.94117647, 0.94117647,\n",
       "        0.76470588, 0.86764706, 0.86764706, 0.83823529, 0.85294118]),\n",
       " 'mean_test_score': array([0.78397272, 0.95903666, 0.96487639, 0.96202046, 0.95034101,\n",
       "        0.73704177, 0.95609548, 0.93853367, 0.93853367, 0.94433078,\n",
       "        0.7341006 , 0.89173061, 0.88878943, 0.85358056, 0.871185  ]),\n",
       " 'std_test_score': array([0.07563597, 0.01106497, 0.00734525, 0.01153292, 0.01471669,\n",
       "        0.03022445, 0.0094385 , 0.02174356, 0.01460366, 0.0254506 ,\n",
       "        0.02643642, 0.0154732 , 0.01814345, 0.03666855, 0.02420249]),\n",
       " 'rank_test_score': array([13,  3,  1,  2,  5, 14,  4,  7,  7,  6, 15,  9, 10, 12, 11])}"
      ]
     },
     "metadata": {},
     "execution_count": 22
    }
   ],
   "source": [
    "model_grid_search.cv_results_"
   ]
  },
  {
   "cell_type": "code",
   "execution_count": 20,
   "metadata": {},
   "outputs": [],
   "source": [
    "cv_results = pd.DataFrame(model_grid_search.cv_results_).sort_values(\n",
    "    \"mean_test_score\", ascending=False)\n",
    "# get the parameter names\n",
    "column_results = [f\"param_{name}\" for name in param_grid.keys()]\n",
    "column_results += [\n",
    "    \"mean_test_score\", \"std_test_score\", \"rank_test_score\"]\n",
    "cv_results = cv_results[column_results]"
   ]
  },
  {
   "cell_type": "code",
   "execution_count": 21,
   "metadata": {},
   "outputs": [
    {
     "output_type": "execute_result",
     "data": {
      "text/plain": [
       "   param_classifier__n_neighbors                    param_preprocessor  \\\n",
       "2                              5                        MinMaxScaler()   \n",
       "3                              5  QuantileTransformer(n_quantiles=100)   \n",
       "1                              5                      StandardScaler()   \n",
       "6                             51                      StandardScaler()   \n",
       "4                              5    PowerTransformer(method='box-cox')   \n",
       "9                             51    PowerTransformer(method='box-cox')   \n",
       "7                             51                        MinMaxScaler()   \n",
       "8                             51  QuantileTransformer(n_quantiles=100)   \n",
       "11                           101                      StandardScaler()   \n",
       "12                           101                        MinMaxScaler()   \n",
       "14                           101    PowerTransformer(method='box-cox')   \n",
       "13                           101  QuantileTransformer(n_quantiles=100)   \n",
       "0                              5                                  None   \n",
       "5                             51                                  None   \n",
       "10                           101                                  None   \n",
       "\n",
       "    mean_test_score  std_test_score  rank_test_score  \n",
       "2          0.964876        0.007345                1  \n",
       "3          0.962020        0.011533                2  \n",
       "1          0.959037        0.011065                3  \n",
       "6          0.956095        0.009438                4  \n",
       "4          0.950341        0.014717                5  \n",
       "9          0.944331        0.025451                6  \n",
       "7          0.938534        0.021744                7  \n",
       "8          0.938534        0.014604                7  \n",
       "11         0.891731        0.015473                9  \n",
       "12         0.888789        0.018143               10  \n",
       "14         0.871185        0.024202               11  \n",
       "13         0.853581        0.036669               12  \n",
       "0          0.783973        0.075636               13  \n",
       "5          0.737042        0.030224               14  \n",
       "10         0.734101        0.026436               15  "
      ],
      "text/html": "<div>\n<style scoped>\n    .dataframe tbody tr th:only-of-type {\n        vertical-align: middle;\n    }\n\n    .dataframe tbody tr th {\n        vertical-align: top;\n    }\n\n    .dataframe thead th {\n        text-align: right;\n    }\n</style>\n<table border=\"1\" class=\"dataframe\">\n  <thead>\n    <tr style=\"text-align: right;\">\n      <th></th>\n      <th>param_classifier__n_neighbors</th>\n      <th>param_preprocessor</th>\n      <th>mean_test_score</th>\n      <th>std_test_score</th>\n      <th>rank_test_score</th>\n    </tr>\n  </thead>\n  <tbody>\n    <tr>\n      <th>2</th>\n      <td>5</td>\n      <td>MinMaxScaler()</td>\n      <td>0.964876</td>\n      <td>0.007345</td>\n      <td>1</td>\n    </tr>\n    <tr>\n      <th>3</th>\n      <td>5</td>\n      <td>QuantileTransformer(n_quantiles=100)</td>\n      <td>0.962020</td>\n      <td>0.011533</td>\n      <td>2</td>\n    </tr>\n    <tr>\n      <th>1</th>\n      <td>5</td>\n      <td>StandardScaler()</td>\n      <td>0.959037</td>\n      <td>0.011065</td>\n      <td>3</td>\n    </tr>\n    <tr>\n      <th>6</th>\n      <td>51</td>\n      <td>StandardScaler()</td>\n      <td>0.956095</td>\n      <td>0.009438</td>\n      <td>4</td>\n    </tr>\n    <tr>\n      <th>4</th>\n      <td>5</td>\n      <td>PowerTransformer(method='box-cox')</td>\n      <td>0.950341</td>\n      <td>0.014717</td>\n      <td>5</td>\n    </tr>\n    <tr>\n      <th>9</th>\n      <td>51</td>\n      <td>PowerTransformer(method='box-cox')</td>\n      <td>0.944331</td>\n      <td>0.025451</td>\n      <td>6</td>\n    </tr>\n    <tr>\n      <th>7</th>\n      <td>51</td>\n      <td>MinMaxScaler()</td>\n      <td>0.938534</td>\n      <td>0.021744</td>\n      <td>7</td>\n    </tr>\n    <tr>\n      <th>8</th>\n      <td>51</td>\n      <td>QuantileTransformer(n_quantiles=100)</td>\n      <td>0.938534</td>\n      <td>0.014604</td>\n      <td>7</td>\n    </tr>\n    <tr>\n      <th>11</th>\n      <td>101</td>\n      <td>StandardScaler()</td>\n      <td>0.891731</td>\n      <td>0.015473</td>\n      <td>9</td>\n    </tr>\n    <tr>\n      <th>12</th>\n      <td>101</td>\n      <td>MinMaxScaler()</td>\n      <td>0.888789</td>\n      <td>0.018143</td>\n      <td>10</td>\n    </tr>\n    <tr>\n      <th>14</th>\n      <td>101</td>\n      <td>PowerTransformer(method='box-cox')</td>\n      <td>0.871185</td>\n      <td>0.024202</td>\n      <td>11</td>\n    </tr>\n    <tr>\n      <th>13</th>\n      <td>101</td>\n      <td>QuantileTransformer(n_quantiles=100)</td>\n      <td>0.853581</td>\n      <td>0.036669</td>\n      <td>12</td>\n    </tr>\n    <tr>\n      <th>0</th>\n      <td>5</td>\n      <td>None</td>\n      <td>0.783973</td>\n      <td>0.075636</td>\n      <td>13</td>\n    </tr>\n    <tr>\n      <th>5</th>\n      <td>51</td>\n      <td>None</td>\n      <td>0.737042</td>\n      <td>0.030224</td>\n      <td>14</td>\n    </tr>\n    <tr>\n      <th>10</th>\n      <td>101</td>\n      <td>None</td>\n      <td>0.734101</td>\n      <td>0.026436</td>\n      <td>15</td>\n    </tr>\n  </tbody>\n</table>\n</div>"
     },
     "metadata": {},
     "execution_count": 21
    }
   ],
   "source": [
    "cv_results"
   ]
  },
  {
   "cell_type": "code",
   "execution_count": null,
   "metadata": {},
   "outputs": [],
   "source": []
  }
 ]
}