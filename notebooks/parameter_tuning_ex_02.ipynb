{
 "cells": [
  {
   "cell_type": "markdown",
   "metadata": {},
   "source": [
    "# 📝 Exercise M3.01\n",
    "\n",
    "The goal is to write an exhaustive search to find the best parameters\n",
    "combination maximizing the model generalization performance.\n",
    "\n",
    "Here we use a small subset of the Adult Census dataset to make the code\n",
    "faster to execute. Once your code works on the small subset, try to\n",
    "change `train_size` to a larger value (e.g. 0.8 for 80% instead of\n",
    "20%)."
   ]
  },
  {
   "cell_type": "code",
   "execution_count": 14,
   "metadata": {},
   "outputs": [],
   "source": [
    "import pandas as pd\n",
    "\n",
    "from sklearn.model_selection import train_test_split\n",
    "\n",
    "adult_census = pd.read_csv(\"../datasets/adult-census.csv\")\n",
    "\n",
    "target_name = \"class\"\n",
    "target = adult_census[target_name]\n",
    "data = adult_census.drop(columns=[target_name, \"education-num\"])\n",
    "\n",
    "data_train, data_test, target_train, target_test = train_test_split(\n",
    "    data, target, train_size=0.2, random_state=42)"
   ]
  },
  {
   "cell_type": "code",
   "execution_count": 2,
   "metadata": {},
   "outputs": [],
   "source": [
    "from sklearn.compose import ColumnTransformer\n",
    "from sklearn.compose import make_column_selector as selector\n",
    "from sklearn.preprocessing import OrdinalEncoder\n",
    "\n",
    "categorical_preprocessor = OrdinalEncoder(handle_unknown=\"use_encoded_value\",\n",
    "                                          unknown_value=-1)\n",
    "preprocessor = ColumnTransformer(\n",
    "    [('cat-preprocessor', categorical_preprocessor,\n",
    "      selector(dtype_include=object))],\n",
    "    remainder='passthrough', sparse_threshold=0)\n",
    "\n",
    "# This line is currently required to import HistGradientBoostingClassifier\n",
    "from sklearn.experimental import enable_hist_gradient_boosting\n",
    "from sklearn.ensemble import HistGradientBoostingClassifier\n",
    "from sklearn.pipeline import Pipeline\n",
    "\n",
    "model = Pipeline([\n",
    "    (\"preprocessor\", preprocessor),\n",
    "    (\"classifier\", HistGradientBoostingClassifier(random_state=42))\n",
    "])"
   ]
  },
  {
   "cell_type": "markdown",
   "metadata": {},
   "source": [
    "\n",
    "Use the previously defined model (called `model`) and using two nested `for`\n",
    "loops, make a search of the best combinations of the `learning_rate` and\n",
    "`max_leaf_nodes` parameters. In this regard, you will need to train and test\n",
    "the model by setting the parameters. The evaluation of the model should be\n",
    "performed using `cross_val_score`. We will use the following parameters\n",
    "search:\n",
    "- `learning_rate` for the values 0.01, 0.1, 1 and 10. This parameter controls\n",
    "  the ability of a new tree to correct the error of the previous sequence of\n",
    "  trees\n",
    "- `max_leaf_nodes` for the values 3, 10, 30. This parameter controls the\n",
    "  depth of each tree."
   ]
  },
  {
   "cell_type": "code",
   "execution_count": 3,
   "metadata": {},
   "outputs": [
    {
     "output_type": "execute_result",
     "data": {
      "text/plain": [
       "{'memory': None,\n",
       " 'steps': [('preprocessor',\n",
       "   ColumnTransformer(remainder='passthrough', sparse_threshold=0,\n",
       "                     transformers=[('cat-preprocessor',\n",
       "                                    OrdinalEncoder(handle_unknown='use_encoded_value',\n",
       "                                                   unknown_value=-1),\n",
       "                                    <sklearn.compose._column_transformer.make_column_selector object at 0x0000028781C9B670>)])),\n",
       "  ('classifier', HistGradientBoostingClassifier(random_state=42))],\n",
       " 'verbose': False,\n",
       " 'preprocessor': ColumnTransformer(remainder='passthrough', sparse_threshold=0,\n",
       "                   transformers=[('cat-preprocessor',\n",
       "                                  OrdinalEncoder(handle_unknown='use_encoded_value',\n",
       "                                                 unknown_value=-1),\n",
       "                                  <sklearn.compose._column_transformer.make_column_selector object at 0x0000028781C9B670>)]),\n",
       " 'classifier': HistGradientBoostingClassifier(random_state=42),\n",
       " 'preprocessor__n_jobs': None,\n",
       " 'preprocessor__remainder': 'passthrough',\n",
       " 'preprocessor__sparse_threshold': 0,\n",
       " 'preprocessor__transformer_weights': None,\n",
       " 'preprocessor__transformers': [('cat-preprocessor',\n",
       "   OrdinalEncoder(handle_unknown='use_encoded_value', unknown_value=-1),\n",
       "   <sklearn.compose._column_transformer.make_column_selector at 0x28781c9b670>)],\n",
       " 'preprocessor__verbose': False,\n",
       " 'preprocessor__cat-preprocessor': OrdinalEncoder(handle_unknown='use_encoded_value', unknown_value=-1),\n",
       " 'preprocessor__cat-preprocessor__categories': 'auto',\n",
       " 'preprocessor__cat-preprocessor__dtype': numpy.float64,\n",
       " 'preprocessor__cat-preprocessor__handle_unknown': 'use_encoded_value',\n",
       " 'preprocessor__cat-preprocessor__unknown_value': -1,\n",
       " 'classifier__categorical_features': None,\n",
       " 'classifier__early_stopping': 'auto',\n",
       " 'classifier__l2_regularization': 0.0,\n",
       " 'classifier__learning_rate': 0.1,\n",
       " 'classifier__loss': 'auto',\n",
       " 'classifier__max_bins': 255,\n",
       " 'classifier__max_depth': None,\n",
       " 'classifier__max_iter': 100,\n",
       " 'classifier__max_leaf_nodes': 31,\n",
       " 'classifier__min_samples_leaf': 20,\n",
       " 'classifier__monotonic_cst': None,\n",
       " 'classifier__n_iter_no_change': 10,\n",
       " 'classifier__random_state': 42,\n",
       " 'classifier__scoring': 'loss',\n",
       " 'classifier__tol': 1e-07,\n",
       " 'classifier__validation_fraction': 0.1,\n",
       " 'classifier__verbose': 0,\n",
       " 'classifier__warm_start': False}"
      ]
     },
     "metadata": {},
     "execution_count": 3
    }
   ],
   "source": [
    "model.get_params()"
   ]
  },
  {
   "cell_type": "code",
   "execution_count": 6,
   "metadata": {},
   "outputs": [],
   "source": [
    "from sklearn.model_selection import cross_val_score\n",
    "\n",
    "learning_rate_range = (.01, .1, 1, 10)\n",
    "max_leaf_nodes_range= (3, 10, 30)"
   ]
  },
  {
   "cell_type": "code",
   "execution_count": 15,
   "metadata": {},
   "outputs": [],
   "source": [
    "def cv_model_hyperparameters():\n",
    "    for learning_rate in learning_rate_range:\n",
    "        for max_leaf_nodes in max_leaf_nodes_range:\n",
    "\n",
    "            model.set_params(\n",
    "                classifier__learning_rate = learning_rate,\n",
    "                classifier__max_leaf_nodes = max_leaf_nodes\n",
    "            )\n",
    "\n",
    "            score = cross_val_score(\n",
    "                model,\n",
    "                data,\n",
    "                target,\n",
    "            )\n",
    "\n",
    "            print(f\"CV score of {score.mean():.3f} obtained for learning_rate={learning_rate} and max_leaf_nodes={max_leaf_nodes}\")"
   ]
  },
  {
   "cell_type": "code",
   "execution_count": 17,
   "metadata": {},
   "outputs": [
    {
     "output_type": "stream",
     "name": "stdout",
     "text": [
      "CV score of 0.799 obtained for learning_rate=0.01 and max_leaf_nodes=3\n",
      "CV score of 0.820 obtained for learning_rate=0.01 and max_leaf_nodes=10\n",
      "CV score of 0.848 obtained for learning_rate=0.01 and max_leaf_nodes=30\n",
      "CV score of 0.856 obtained for learning_rate=0.1 and max_leaf_nodes=3\n",
      "CV score of 0.870 obtained for learning_rate=0.1 and max_leaf_nodes=10\n",
      "CV score of 0.874 obtained for learning_rate=0.1 and max_leaf_nodes=30\n",
      "CV score of 0.870 obtained for learning_rate=1 and max_leaf_nodes=3\n",
      "CV score of 0.867 obtained for learning_rate=1 and max_leaf_nodes=10\n",
      "CV score of 0.860 obtained for learning_rate=1 and max_leaf_nodes=30\n",
      "CV score of 0.281 obtained for learning_rate=10 and max_leaf_nodes=3\n",
      "CV score of 0.761 obtained for learning_rate=10 and max_leaf_nodes=10\n",
      "CV score of 0.616 obtained for learning_rate=10 and max_leaf_nodes=30\n"
     ]
    }
   ],
   "source": [
    "cv_model_hyperparameters()"
   ]
  },
  {
   "cell_type": "code",
   "execution_count": null,
   "metadata": {},
   "outputs": [],
   "source": [
    "cv_model_hyperparameters"
   ]
  },
  {
   "source": [
    "score of 0.874 obtained for learning_rate=0.1 and max_leaf_nodes=30"
   ],
   "cell_type": "markdown",
   "metadata": {}
  }
 ],
 "metadata": {
  "kernelspec": {
   "name": "python395jvsc74a57bd0b51595f36012c8da2bf2284ebbd8d377d5c2d31fa7484164f2d2bcda7a09b462",
   "display_name": "Python 3.9.5 64-bit"
  }
 },
 "nbformat": 4,
 "nbformat_minor": 5
}